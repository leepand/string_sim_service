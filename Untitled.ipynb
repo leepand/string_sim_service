{
 "cells": [
  {
   "cell_type": "code",
   "execution_count": 2,
   "metadata": {},
   "outputs": [
    {
     "name": "stdout",
     "output_type": "stream",
     "text": [
      "[0, 2, 7, 9, 8, 4, 6, 1, 5, 3]\n"
     ]
    }
   ],
   "source": [
    "from annoy import AnnoyIndex\n",
    "import random\n",
    "\n",
    "f = 40\n",
    "t = AnnoyIndex(f)  # Length of item vector that will be indexed\n",
    "for i in xrange(10):\n",
    "    v = [random.gauss(0, 1) for z in xrange(f)]\n",
    "    t.add_item(i, v)\n",
    "\n",
    "t.build(10) # 10 trees\n",
    "t.save('test.ann')\n",
    "\n",
    "# ...\n",
    "\n"
   ]
  },
  {
   "cell_type": "code",
   "execution_count": null,
   "metadata": {},
   "outputs": [],
   "source": [
    "import random\n",
    "from annoy import AnnoyIndex\n",
    "f = 40\n",
    "u = AnnoyIndex(f)\n",
    "u.load('test.ann') # super fast, will just mmap the file\n",
    "for i in xrange(10):\n",
    "    v = [random.gauss(0, 1) for z in xrange(f)]\n",
    "    u.add_item(i, v)\n",
    "u.build(10) # 10 trees\n",
    "print(u.get_nns_by_item(0, 20)) # will find the 1000 nearest neighbors"
   ]
  },
  {
   "cell_type": "code",
   "execution_count": 3,
   "metadata": {},
   "outputs": [
    {
     "name": "stdout",
     "output_type": "stream",
     "text": [
      "['./brand_service.py', './brand_serviceV1.2.py', './bow_sim_nmslib.py', './brand_serviceV1.1.py', './brand_serviceV1.4.py']\n"
     ]
    }
   ],
   "source": [
    "import os,re\n",
    "def image_files_in_folder(folder):\n",
    "    return [os.path.join(folder, f) for f in os.listdir(folder) if re.match(r'.*\\.(jpg|jpeg|png|py)', f, flags=re.I)]\n",
    "print image_files_in_folder('./')"
   ]
  },
  {
   "cell_type": "code",
   "execution_count": null,
   "metadata": {},
   "outputs": [],
   "source": []
  }
 ],
 "metadata": {
  "kernelspec": {
   "display_name": "Python 2",
   "language": "python",
   "name": "python2"
  },
  "language_info": {
   "codemirror_mode": {
    "name": "ipython",
    "version": 2
   },
   "file_extension": ".py",
   "mimetype": "text/x-python",
   "name": "python",
   "nbconvert_exporter": "python",
   "pygments_lexer": "ipython2",
   "version": "2.7.13"
  }
 },
 "nbformat": 4,
 "nbformat_minor": 2
}
